{
  "nbformat": 4,
  "nbformat_minor": 0,
  "metadata": {
    "colab": {
      "provenance": []
    },
    "kernelspec": {
      "name": "python3",
      "display_name": "Python 3"
    },
    "language_info": {
      "name": "python"
    }
  },
  "cells": [
    {
      "cell_type": "code",
      "execution_count": null,
      "metadata": {
        "colab": {
          "base_uri": "https://localhost:8080/",
          "height": 237
        },
        "id": "N0lRh9ZDHvWg",
        "outputId": "00e28a25-6d0a-42c0-d482-b3b5d57ab0fa"
      },
      "outputs": [
        {
          "output_type": "execute_result",
          "data": {
            "text/plain": [
              "                 Revenue  Sales_quantity  Average_cost  \\\n",
              "Period                                                   \n",
              "2015-01-01  1.601007e+07         12729.0   1257.763541   \n",
              "2015-01-02  1.580759e+07         11636.0   1358.507000   \n",
              "2015-01-03  2.204715e+07         15922.0   1384.697024   \n",
              "2015-01-04  1.881458e+07         15227.0   1235.606705   \n",
              "2015-01-05  1.402148e+07          8620.0   1626.621765   \n",
              "\n",
              "            The_average_annual_payroll_of_the_region  \n",
              "Period                                                \n",
              "2015-01-01                                30024676.0  \n",
              "2015-01-02                                30024676.0  \n",
              "2015-01-03                                30024676.0  \n",
              "2015-01-04                                30024676.0  \n",
              "2015-01-05                                30024676.0  "
            ],
            "text/html": [
              "\n",
              "  <div id=\"df-9b828cf4-00b5-4801-b35e-42e8f6a70aec\" class=\"colab-df-container\">\n",
              "    <div>\n",
              "<style scoped>\n",
              "    .dataframe tbody tr th:only-of-type {\n",
              "        vertical-align: middle;\n",
              "    }\n",
              "\n",
              "    .dataframe tbody tr th {\n",
              "        vertical-align: top;\n",
              "    }\n",
              "\n",
              "    .dataframe thead th {\n",
              "        text-align: right;\n",
              "    }\n",
              "</style>\n",
              "<table border=\"1\" class=\"dataframe\">\n",
              "  <thead>\n",
              "    <tr style=\"text-align: right;\">\n",
              "      <th></th>\n",
              "      <th>Revenue</th>\n",
              "      <th>Sales_quantity</th>\n",
              "      <th>Average_cost</th>\n",
              "      <th>The_average_annual_payroll_of_the_region</th>\n",
              "    </tr>\n",
              "    <tr>\n",
              "      <th>Period</th>\n",
              "      <th></th>\n",
              "      <th></th>\n",
              "      <th></th>\n",
              "      <th></th>\n",
              "    </tr>\n",
              "  </thead>\n",
              "  <tbody>\n",
              "    <tr>\n",
              "      <th>2015-01-01</th>\n",
              "      <td>1.601007e+07</td>\n",
              "      <td>12729.0</td>\n",
              "      <td>1257.763541</td>\n",
              "      <td>30024676.0</td>\n",
              "    </tr>\n",
              "    <tr>\n",
              "      <th>2015-01-02</th>\n",
              "      <td>1.580759e+07</td>\n",
              "      <td>11636.0</td>\n",
              "      <td>1358.507000</td>\n",
              "      <td>30024676.0</td>\n",
              "    </tr>\n",
              "    <tr>\n",
              "      <th>2015-01-03</th>\n",
              "      <td>2.204715e+07</td>\n",
              "      <td>15922.0</td>\n",
              "      <td>1384.697024</td>\n",
              "      <td>30024676.0</td>\n",
              "    </tr>\n",
              "    <tr>\n",
              "      <th>2015-01-04</th>\n",
              "      <td>1.881458e+07</td>\n",
              "      <td>15227.0</td>\n",
              "      <td>1235.606705</td>\n",
              "      <td>30024676.0</td>\n",
              "    </tr>\n",
              "    <tr>\n",
              "      <th>2015-01-05</th>\n",
              "      <td>1.402148e+07</td>\n",
              "      <td>8620.0</td>\n",
              "      <td>1626.621765</td>\n",
              "      <td>30024676.0</td>\n",
              "    </tr>\n",
              "  </tbody>\n",
              "</table>\n",
              "</div>\n",
              "    <div class=\"colab-df-buttons\">\n",
              "\n",
              "  <div class=\"colab-df-container\">\n",
              "    <button class=\"colab-df-convert\" onclick=\"convertToInteractive('df-9b828cf4-00b5-4801-b35e-42e8f6a70aec')\"\n",
              "            title=\"Convert this dataframe to an interactive table.\"\n",
              "            style=\"display:none;\">\n",
              "\n",
              "  <svg xmlns=\"http://www.w3.org/2000/svg\" height=\"24px\" viewBox=\"0 -960 960 960\">\n",
              "    <path d=\"M120-120v-720h720v720H120Zm60-500h600v-160H180v160Zm220 220h160v-160H400v160Zm0 220h160v-160H400v160ZM180-400h160v-160H180v160Zm440 0h160v-160H620v160ZM180-180h160v-160H180v160Zm440 0h160v-160H620v160Z\"/>\n",
              "  </svg>\n",
              "    </button>\n",
              "\n",
              "  <style>\n",
              "    .colab-df-container {\n",
              "      display:flex;\n",
              "      gap: 12px;\n",
              "    }\n",
              "\n",
              "    .colab-df-convert {\n",
              "      background-color: #E8F0FE;\n",
              "      border: none;\n",
              "      border-radius: 50%;\n",
              "      cursor: pointer;\n",
              "      display: none;\n",
              "      fill: #1967D2;\n",
              "      height: 32px;\n",
              "      padding: 0 0 0 0;\n",
              "      width: 32px;\n",
              "    }\n",
              "\n",
              "    .colab-df-convert:hover {\n",
              "      background-color: #E2EBFA;\n",
              "      box-shadow: 0px 1px 2px rgba(60, 64, 67, 0.3), 0px 1px 3px 1px rgba(60, 64, 67, 0.15);\n",
              "      fill: #174EA6;\n",
              "    }\n",
              "\n",
              "    .colab-df-buttons div {\n",
              "      margin-bottom: 4px;\n",
              "    }\n",
              "\n",
              "    [theme=dark] .colab-df-convert {\n",
              "      background-color: #3B4455;\n",
              "      fill: #D2E3FC;\n",
              "    }\n",
              "\n",
              "    [theme=dark] .colab-df-convert:hover {\n",
              "      background-color: #434B5C;\n",
              "      box-shadow: 0px 1px 3px 1px rgba(0, 0, 0, 0.15);\n",
              "      filter: drop-shadow(0px 1px 2px rgba(0, 0, 0, 0.3));\n",
              "      fill: #FFFFFF;\n",
              "    }\n",
              "  </style>\n",
              "\n",
              "    <script>\n",
              "      const buttonEl =\n",
              "        document.querySelector('#df-9b828cf4-00b5-4801-b35e-42e8f6a70aec button.colab-df-convert');\n",
              "      buttonEl.style.display =\n",
              "        google.colab.kernel.accessAllowed ? 'block' : 'none';\n",
              "\n",
              "      async function convertToInteractive(key) {\n",
              "        const element = document.querySelector('#df-9b828cf4-00b5-4801-b35e-42e8f6a70aec');\n",
              "        const dataTable =\n",
              "          await google.colab.kernel.invokeFunction('convertToInteractive',\n",
              "                                                    [key], {});\n",
              "        if (!dataTable) return;\n",
              "\n",
              "        const docLinkHtml = 'Like what you see? Visit the ' +\n",
              "          '<a target=\"_blank\" href=https://colab.research.google.com/notebooks/data_table.ipynb>data table notebook</a>'\n",
              "          + ' to learn more about interactive tables.';\n",
              "        element.innerHTML = '';\n",
              "        dataTable['output_type'] = 'display_data';\n",
              "        await google.colab.output.renderOutput(dataTable, element);\n",
              "        const docLink = document.createElement('div');\n",
              "        docLink.innerHTML = docLinkHtml;\n",
              "        element.appendChild(docLink);\n",
              "      }\n",
              "    </script>\n",
              "  </div>\n",
              "\n",
              "\n",
              "<div id=\"df-68c05d6c-873d-4e8b-b825-a5b68f8aa09c\">\n",
              "  <button class=\"colab-df-quickchart\" onclick=\"quickchart('df-68c05d6c-873d-4e8b-b825-a5b68f8aa09c')\"\n",
              "            title=\"Suggest charts\"\n",
              "            style=\"display:none;\">\n",
              "\n",
              "<svg xmlns=\"http://www.w3.org/2000/svg\" height=\"24px\"viewBox=\"0 0 24 24\"\n",
              "     width=\"24px\">\n",
              "    <g>\n",
              "        <path d=\"M19 3H5c-1.1 0-2 .9-2 2v14c0 1.1.9 2 2 2h14c1.1 0 2-.9 2-2V5c0-1.1-.9-2-2-2zM9 17H7v-7h2v7zm4 0h-2V7h2v10zm4 0h-2v-4h2v4z\"/>\n",
              "    </g>\n",
              "</svg>\n",
              "  </button>\n",
              "\n",
              "<style>\n",
              "  .colab-df-quickchart {\n",
              "      --bg-color: #E8F0FE;\n",
              "      --fill-color: #1967D2;\n",
              "      --hover-bg-color: #E2EBFA;\n",
              "      --hover-fill-color: #174EA6;\n",
              "      --disabled-fill-color: #AAA;\n",
              "      --disabled-bg-color: #DDD;\n",
              "  }\n",
              "\n",
              "  [theme=dark] .colab-df-quickchart {\n",
              "      --bg-color: #3B4455;\n",
              "      --fill-color: #D2E3FC;\n",
              "      --hover-bg-color: #434B5C;\n",
              "      --hover-fill-color: #FFFFFF;\n",
              "      --disabled-bg-color: #3B4455;\n",
              "      --disabled-fill-color: #666;\n",
              "  }\n",
              "\n",
              "  .colab-df-quickchart {\n",
              "    background-color: var(--bg-color);\n",
              "    border: none;\n",
              "    border-radius: 50%;\n",
              "    cursor: pointer;\n",
              "    display: none;\n",
              "    fill: var(--fill-color);\n",
              "    height: 32px;\n",
              "    padding: 0;\n",
              "    width: 32px;\n",
              "  }\n",
              "\n",
              "  .colab-df-quickchart:hover {\n",
              "    background-color: var(--hover-bg-color);\n",
              "    box-shadow: 0 1px 2px rgba(60, 64, 67, 0.3), 0 1px 3px 1px rgba(60, 64, 67, 0.15);\n",
              "    fill: var(--button-hover-fill-color);\n",
              "  }\n",
              "\n",
              "  .colab-df-quickchart-complete:disabled,\n",
              "  .colab-df-quickchart-complete:disabled:hover {\n",
              "    background-color: var(--disabled-bg-color);\n",
              "    fill: var(--disabled-fill-color);\n",
              "    box-shadow: none;\n",
              "  }\n",
              "\n",
              "  .colab-df-spinner {\n",
              "    border: 2px solid var(--fill-color);\n",
              "    border-color: transparent;\n",
              "    border-bottom-color: var(--fill-color);\n",
              "    animation:\n",
              "      spin 1s steps(1) infinite;\n",
              "  }\n",
              "\n",
              "  @keyframes spin {\n",
              "    0% {\n",
              "      border-color: transparent;\n",
              "      border-bottom-color: var(--fill-color);\n",
              "      border-left-color: var(--fill-color);\n",
              "    }\n",
              "    20% {\n",
              "      border-color: transparent;\n",
              "      border-left-color: var(--fill-color);\n",
              "      border-top-color: var(--fill-color);\n",
              "    }\n",
              "    30% {\n",
              "      border-color: transparent;\n",
              "      border-left-color: var(--fill-color);\n",
              "      border-top-color: var(--fill-color);\n",
              "      border-right-color: var(--fill-color);\n",
              "    }\n",
              "    40% {\n",
              "      border-color: transparent;\n",
              "      border-right-color: var(--fill-color);\n",
              "      border-top-color: var(--fill-color);\n",
              "    }\n",
              "    60% {\n",
              "      border-color: transparent;\n",
              "      border-right-color: var(--fill-color);\n",
              "    }\n",
              "    80% {\n",
              "      border-color: transparent;\n",
              "      border-right-color: var(--fill-color);\n",
              "      border-bottom-color: var(--fill-color);\n",
              "    }\n",
              "    90% {\n",
              "      border-color: transparent;\n",
              "      border-bottom-color: var(--fill-color);\n",
              "    }\n",
              "  }\n",
              "</style>\n",
              "\n",
              "  <script>\n",
              "    async function quickchart(key) {\n",
              "      const quickchartButtonEl =\n",
              "        document.querySelector('#' + key + ' button');\n",
              "      quickchartButtonEl.disabled = true;  // To prevent multiple clicks.\n",
              "      quickchartButtonEl.classList.add('colab-df-spinner');\n",
              "      try {\n",
              "        const charts = await google.colab.kernel.invokeFunction(\n",
              "            'suggestCharts', [key], {});\n",
              "      } catch (error) {\n",
              "        console.error('Error during call to suggestCharts:', error);\n",
              "      }\n",
              "      quickchartButtonEl.classList.remove('colab-df-spinner');\n",
              "      quickchartButtonEl.classList.add('colab-df-quickchart-complete');\n",
              "    }\n",
              "    (() => {\n",
              "      let quickchartButtonEl =\n",
              "        document.querySelector('#df-68c05d6c-873d-4e8b-b825-a5b68f8aa09c button');\n",
              "      quickchartButtonEl.style.display =\n",
              "        google.colab.kernel.accessAllowed ? 'block' : 'none';\n",
              "    })();\n",
              "  </script>\n",
              "</div>\n",
              "\n",
              "    </div>\n",
              "  </div>\n"
            ],
            "application/vnd.google.colaboratory.intrinsic+json": {
              "type": "dataframe",
              "variable_name": "df",
              "summary": "{\n  \"name\": \"df\",\n  \"rows\": 96,\n  \"fields\": [\n    {\n      \"column\": \"Period\",\n      \"properties\": {\n        \"dtype\": \"date\",\n        \"min\": \"2015-01-01 00:00:00\",\n        \"max\": \"2022-01-12 00:00:00\",\n        \"num_unique_values\": 96,\n        \"samples\": [\n          \"2021-01-09 00:00:00\",\n          \"2021-01-06 00:00:00\",\n          \"2021-01-02 00:00:00\"\n        ],\n        \"semantic_type\": \"\",\n        \"description\": \"\"\n      }\n    },\n    {\n      \"column\": \"Revenue\",\n      \"properties\": {\n        \"dtype\": \"number\",\n        \"std\": 11641498.538631238,\n        \"min\": 14021479.611678,\n        \"max\": 58756473.6608,\n        \"num_unique_values\": 64,\n        \"samples\": [\n          32531657.5397,\n          36374956.4944,\n          16010072.1195\n        ],\n        \"semantic_type\": \"\",\n        \"description\": \"\"\n      }\n    },\n    {\n      \"column\": \"Sales_quantity\",\n      \"properties\": {\n        \"dtype\": \"number\",\n        \"std\": 6591.287256554117,\n        \"min\": 8314.0,\n        \"max\": 38069.0,\n        \"num_unique_values\": 64,\n        \"samples\": [\n          16967.0,\n          21987.0,\n          12729.0\n        ],\n        \"semantic_type\": \"\",\n        \"description\": \"\"\n      }\n    },\n    {\n      \"column\": \"Average_cost\",\n      \"properties\": {\n        \"dtype\": \"number\",\n        \"std\": 296.8447927540013,\n        \"min\": 1110.57680508126,\n        \"max\": 2559.32818390964,\n        \"num_unique_values\": 64,\n        \"samples\": [\n          1917.34882652797,\n          1654.38470434348,\n          1257.76354148008\n        ],\n        \"semantic_type\": \"\",\n        \"description\": \"\"\n      }\n    },\n    {\n      \"column\": \"The_average_annual_payroll_of_the_region\",\n      \"properties\": {\n        \"dtype\": \"number\",\n        \"std\": 1057190.521818245,\n        \"min\": 27406473.0,\n        \"max\": 30024676.0,\n        \"num_unique_values\": 6,\n        \"samples\": [\n          30024676.0,\n          27828571.0,\n          29044998.0\n        ],\n        \"semantic_type\": \"\",\n        \"description\": \"\"\n      }\n    }\n  ]\n}"
            }
          },
          "metadata": {},
          "execution_count": 3
        }
      ],
      "source": [
        "import pandas as pd\n",
        "# Parse dates and set date column to index\n",
        "df = pd.read_csv(\"/content/Month_Value_1.csv\",\n",
        "                 parse_dates=[\"Period\"],\n",
        "                 index_col=[\"Period\"]) # parse the date column (tell pandas column 1 is a datetime)\n",
        "df.head()"
      ]
    },
    {
      "cell_type": "code",
      "source": [
        "df.isnull().sum()"
      ],
      "metadata": {
        "colab": {
          "base_uri": "https://localhost:8080/"
        },
        "id": "xdUiJbc4Kc1k",
        "outputId": "9e53fa7b-111d-4ddd-b058-f2aad6b5448c"
      },
      "execution_count": null,
      "outputs": [
        {
          "output_type": "execute_result",
          "data": {
            "text/plain": [
              "Revenue                                     32\n",
              "Sales_quantity                              32\n",
              "Average_cost                                32\n",
              "The_average_annual_payroll_of_the_region    32\n",
              "dtype: int64"
            ]
          },
          "metadata": {},
          "execution_count": 4
        }
      ]
    },
    {
      "cell_type": "code",
      "source": [
        "df = df.dropna()\n"
      ],
      "metadata": {
        "id": "kex0LCsFXk90"
      },
      "execution_count": null,
      "outputs": []
    },
    {
      "cell_type": "code",
      "source": [
        "df.isnull().sum()"
      ],
      "metadata": {
        "colab": {
          "base_uri": "https://localhost:8080/"
        },
        "id": "mTO8-EjAXsz7",
        "outputId": "d4382b4c-3990-45fb-ec11-9af3d211592c"
      },
      "execution_count": null,
      "outputs": [
        {
          "output_type": "execute_result",
          "data": {
            "text/plain": [
              "Revenue                                     0\n",
              "Sales_quantity                              0\n",
              "Average_cost                                0\n",
              "The_average_annual_payroll_of_the_region    0\n",
              "dtype: int64"
            ]
          },
          "metadata": {},
          "execution_count": 68
        }
      ]
    },
    {
      "cell_type": "code",
      "source": [
        "# How many samples do we have?\n",
        "len(df)"
      ],
      "metadata": {
        "colab": {
          "base_uri": "https://localhost:8080/"
        },
        "id": "iHBgMhT2K1e7",
        "outputId": "b33ec011-7005-4da1-a3c6-54b036eee2cb"
      },
      "execution_count": null,
      "outputs": [
        {
          "output_type": "execute_result",
          "data": {
            "text/plain": [
              "64"
            ]
          },
          "metadata": {},
          "execution_count": 69
        }
      ]
    },
    {
      "cell_type": "code",
      "source": [
        "# Only want closing price for each day\n",
        "revenue = pd.DataFrame(df[\"Revenue\"])\n",
        "revenue.head()"
      ],
      "metadata": {
        "colab": {
          "base_uri": "https://localhost:8080/",
          "height": 237
        },
        "id": "lNPoAKR9LCPp",
        "outputId": "7582c0b3-e2f7-4447-b117-31f9151ce8d1"
      },
      "execution_count": null,
      "outputs": [
        {
          "output_type": "execute_result",
          "data": {
            "text/plain": [
              "                 Revenue\n",
              "Period                  \n",
              "2015-01-01  1.601007e+07\n",
              "2015-01-02  1.580759e+07\n",
              "2015-01-03  2.204715e+07\n",
              "2015-01-04  1.881458e+07\n",
              "2015-01-05  1.402148e+07"
            ],
            "text/html": [
              "\n",
              "  <div id=\"df-329a96a6-a9b4-4c1f-919b-dca0abfacd93\" class=\"colab-df-container\">\n",
              "    <div>\n",
              "<style scoped>\n",
              "    .dataframe tbody tr th:only-of-type {\n",
              "        vertical-align: middle;\n",
              "    }\n",
              "\n",
              "    .dataframe tbody tr th {\n",
              "        vertical-align: top;\n",
              "    }\n",
              "\n",
              "    .dataframe thead th {\n",
              "        text-align: right;\n",
              "    }\n",
              "</style>\n",
              "<table border=\"1\" class=\"dataframe\">\n",
              "  <thead>\n",
              "    <tr style=\"text-align: right;\">\n",
              "      <th></th>\n",
              "      <th>Revenue</th>\n",
              "    </tr>\n",
              "    <tr>\n",
              "      <th>Period</th>\n",
              "      <th></th>\n",
              "    </tr>\n",
              "  </thead>\n",
              "  <tbody>\n",
              "    <tr>\n",
              "      <th>2015-01-01</th>\n",
              "      <td>1.601007e+07</td>\n",
              "    </tr>\n",
              "    <tr>\n",
              "      <th>2015-01-02</th>\n",
              "      <td>1.580759e+07</td>\n",
              "    </tr>\n",
              "    <tr>\n",
              "      <th>2015-01-03</th>\n",
              "      <td>2.204715e+07</td>\n",
              "    </tr>\n",
              "    <tr>\n",
              "      <th>2015-01-04</th>\n",
              "      <td>1.881458e+07</td>\n",
              "    </tr>\n",
              "    <tr>\n",
              "      <th>2015-01-05</th>\n",
              "      <td>1.402148e+07</td>\n",
              "    </tr>\n",
              "  </tbody>\n",
              "</table>\n",
              "</div>\n",
              "    <div class=\"colab-df-buttons\">\n",
              "\n",
              "  <div class=\"colab-df-container\">\n",
              "    <button class=\"colab-df-convert\" onclick=\"convertToInteractive('df-329a96a6-a9b4-4c1f-919b-dca0abfacd93')\"\n",
              "            title=\"Convert this dataframe to an interactive table.\"\n",
              "            style=\"display:none;\">\n",
              "\n",
              "  <svg xmlns=\"http://www.w3.org/2000/svg\" height=\"24px\" viewBox=\"0 -960 960 960\">\n",
              "    <path d=\"M120-120v-720h720v720H120Zm60-500h600v-160H180v160Zm220 220h160v-160H400v160Zm0 220h160v-160H400v160ZM180-400h160v-160H180v160Zm440 0h160v-160H620v160ZM180-180h160v-160H180v160Zm440 0h160v-160H620v160Z\"/>\n",
              "  </svg>\n",
              "    </button>\n",
              "\n",
              "  <style>\n",
              "    .colab-df-container {\n",
              "      display:flex;\n",
              "      gap: 12px;\n",
              "    }\n",
              "\n",
              "    .colab-df-convert {\n",
              "      background-color: #E8F0FE;\n",
              "      border: none;\n",
              "      border-radius: 50%;\n",
              "      cursor: pointer;\n",
              "      display: none;\n",
              "      fill: #1967D2;\n",
              "      height: 32px;\n",
              "      padding: 0 0 0 0;\n",
              "      width: 32px;\n",
              "    }\n",
              "\n",
              "    .colab-df-convert:hover {\n",
              "      background-color: #E2EBFA;\n",
              "      box-shadow: 0px 1px 2px rgba(60, 64, 67, 0.3), 0px 1px 3px 1px rgba(60, 64, 67, 0.15);\n",
              "      fill: #174EA6;\n",
              "    }\n",
              "\n",
              "    .colab-df-buttons div {\n",
              "      margin-bottom: 4px;\n",
              "    }\n",
              "\n",
              "    [theme=dark] .colab-df-convert {\n",
              "      background-color: #3B4455;\n",
              "      fill: #D2E3FC;\n",
              "    }\n",
              "\n",
              "    [theme=dark] .colab-df-convert:hover {\n",
              "      background-color: #434B5C;\n",
              "      box-shadow: 0px 1px 3px 1px rgba(0, 0, 0, 0.15);\n",
              "      filter: drop-shadow(0px 1px 2px rgba(0, 0, 0, 0.3));\n",
              "      fill: #FFFFFF;\n",
              "    }\n",
              "  </style>\n",
              "\n",
              "    <script>\n",
              "      const buttonEl =\n",
              "        document.querySelector('#df-329a96a6-a9b4-4c1f-919b-dca0abfacd93 button.colab-df-convert');\n",
              "      buttonEl.style.display =\n",
              "        google.colab.kernel.accessAllowed ? 'block' : 'none';\n",
              "\n",
              "      async function convertToInteractive(key) {\n",
              "        const element = document.querySelector('#df-329a96a6-a9b4-4c1f-919b-dca0abfacd93');\n",
              "        const dataTable =\n",
              "          await google.colab.kernel.invokeFunction('convertToInteractive',\n",
              "                                                    [key], {});\n",
              "        if (!dataTable) return;\n",
              "\n",
              "        const docLinkHtml = 'Like what you see? Visit the ' +\n",
              "          '<a target=\"_blank\" href=https://colab.research.google.com/notebooks/data_table.ipynb>data table notebook</a>'\n",
              "          + ' to learn more about interactive tables.';\n",
              "        element.innerHTML = '';\n",
              "        dataTable['output_type'] = 'display_data';\n",
              "        await google.colab.output.renderOutput(dataTable, element);\n",
              "        const docLink = document.createElement('div');\n",
              "        docLink.innerHTML = docLinkHtml;\n",
              "        element.appendChild(docLink);\n",
              "      }\n",
              "    </script>\n",
              "  </div>\n",
              "\n",
              "\n",
              "<div id=\"df-2c24eb0a-3837-4533-be73-789436d94159\">\n",
              "  <button class=\"colab-df-quickchart\" onclick=\"quickchart('df-2c24eb0a-3837-4533-be73-789436d94159')\"\n",
              "            title=\"Suggest charts\"\n",
              "            style=\"display:none;\">\n",
              "\n",
              "<svg xmlns=\"http://www.w3.org/2000/svg\" height=\"24px\"viewBox=\"0 0 24 24\"\n",
              "     width=\"24px\">\n",
              "    <g>\n",
              "        <path d=\"M19 3H5c-1.1 0-2 .9-2 2v14c0 1.1.9 2 2 2h14c1.1 0 2-.9 2-2V5c0-1.1-.9-2-2-2zM9 17H7v-7h2v7zm4 0h-2V7h2v10zm4 0h-2v-4h2v4z\"/>\n",
              "    </g>\n",
              "</svg>\n",
              "  </button>\n",
              "\n",
              "<style>\n",
              "  .colab-df-quickchart {\n",
              "      --bg-color: #E8F0FE;\n",
              "      --fill-color: #1967D2;\n",
              "      --hover-bg-color: #E2EBFA;\n",
              "      --hover-fill-color: #174EA6;\n",
              "      --disabled-fill-color: #AAA;\n",
              "      --disabled-bg-color: #DDD;\n",
              "  }\n",
              "\n",
              "  [theme=dark] .colab-df-quickchart {\n",
              "      --bg-color: #3B4455;\n",
              "      --fill-color: #D2E3FC;\n",
              "      --hover-bg-color: #434B5C;\n",
              "      --hover-fill-color: #FFFFFF;\n",
              "      --disabled-bg-color: #3B4455;\n",
              "      --disabled-fill-color: #666;\n",
              "  }\n",
              "\n",
              "  .colab-df-quickchart {\n",
              "    background-color: var(--bg-color);\n",
              "    border: none;\n",
              "    border-radius: 50%;\n",
              "    cursor: pointer;\n",
              "    display: none;\n",
              "    fill: var(--fill-color);\n",
              "    height: 32px;\n",
              "    padding: 0;\n",
              "    width: 32px;\n",
              "  }\n",
              "\n",
              "  .colab-df-quickchart:hover {\n",
              "    background-color: var(--hover-bg-color);\n",
              "    box-shadow: 0 1px 2px rgba(60, 64, 67, 0.3), 0 1px 3px 1px rgba(60, 64, 67, 0.15);\n",
              "    fill: var(--button-hover-fill-color);\n",
              "  }\n",
              "\n",
              "  .colab-df-quickchart-complete:disabled,\n",
              "  .colab-df-quickchart-complete:disabled:hover {\n",
              "    background-color: var(--disabled-bg-color);\n",
              "    fill: var(--disabled-fill-color);\n",
              "    box-shadow: none;\n",
              "  }\n",
              "\n",
              "  .colab-df-spinner {\n",
              "    border: 2px solid var(--fill-color);\n",
              "    border-color: transparent;\n",
              "    border-bottom-color: var(--fill-color);\n",
              "    animation:\n",
              "      spin 1s steps(1) infinite;\n",
              "  }\n",
              "\n",
              "  @keyframes spin {\n",
              "    0% {\n",
              "      border-color: transparent;\n",
              "      border-bottom-color: var(--fill-color);\n",
              "      border-left-color: var(--fill-color);\n",
              "    }\n",
              "    20% {\n",
              "      border-color: transparent;\n",
              "      border-left-color: var(--fill-color);\n",
              "      border-top-color: var(--fill-color);\n",
              "    }\n",
              "    30% {\n",
              "      border-color: transparent;\n",
              "      border-left-color: var(--fill-color);\n",
              "      border-top-color: var(--fill-color);\n",
              "      border-right-color: var(--fill-color);\n",
              "    }\n",
              "    40% {\n",
              "      border-color: transparent;\n",
              "      border-right-color: var(--fill-color);\n",
              "      border-top-color: var(--fill-color);\n",
              "    }\n",
              "    60% {\n",
              "      border-color: transparent;\n",
              "      border-right-color: var(--fill-color);\n",
              "    }\n",
              "    80% {\n",
              "      border-color: transparent;\n",
              "      border-right-color: var(--fill-color);\n",
              "      border-bottom-color: var(--fill-color);\n",
              "    }\n",
              "    90% {\n",
              "      border-color: transparent;\n",
              "      border-bottom-color: var(--fill-color);\n",
              "    }\n",
              "  }\n",
              "</style>\n",
              "\n",
              "  <script>\n",
              "    async function quickchart(key) {\n",
              "      const quickchartButtonEl =\n",
              "        document.querySelector('#' + key + ' button');\n",
              "      quickchartButtonEl.disabled = true;  // To prevent multiple clicks.\n",
              "      quickchartButtonEl.classList.add('colab-df-spinner');\n",
              "      try {\n",
              "        const charts = await google.colab.kernel.invokeFunction(\n",
              "            'suggestCharts', [key], {});\n",
              "      } catch (error) {\n",
              "        console.error('Error during call to suggestCharts:', error);\n",
              "      }\n",
              "      quickchartButtonEl.classList.remove('colab-df-spinner');\n",
              "      quickchartButtonEl.classList.add('colab-df-quickchart-complete');\n",
              "    }\n",
              "    (() => {\n",
              "      let quickchartButtonEl =\n",
              "        document.querySelector('#df-2c24eb0a-3837-4533-be73-789436d94159 button');\n",
              "      quickchartButtonEl.style.display =\n",
              "        google.colab.kernel.accessAllowed ? 'block' : 'none';\n",
              "    })();\n",
              "  </script>\n",
              "</div>\n",
              "\n",
              "    </div>\n",
              "  </div>\n"
            ],
            "application/vnd.google.colaboratory.intrinsic+json": {
              "type": "dataframe",
              "variable_name": "revenue",
              "summary": "{\n  \"name\": \"revenue\",\n  \"rows\": 96,\n  \"fields\": [\n    {\n      \"column\": \"Period\",\n      \"properties\": {\n        \"dtype\": \"date\",\n        \"min\": \"2015-01-01 00:00:00\",\n        \"max\": \"2022-01-12 00:00:00\",\n        \"num_unique_values\": 96,\n        \"samples\": [\n          \"2021-01-09 00:00:00\",\n          \"2021-01-06 00:00:00\",\n          \"2021-01-02 00:00:00\"\n        ],\n        \"semantic_type\": \"\",\n        \"description\": \"\"\n      }\n    },\n    {\n      \"column\": \"Revenue\",\n      \"properties\": {\n        \"dtype\": \"number\",\n        \"std\": 11641498.538631238,\n        \"min\": 14021479.611678,\n        \"max\": 58756473.6608,\n        \"num_unique_values\": 64,\n        \"samples\": [\n          32531657.5397,\n          36374956.4944,\n          16010072.1195\n        ],\n        \"semantic_type\": \"\",\n        \"description\": \"\"\n      }\n    }\n  ]\n}"
            }
          },
          "metadata": {},
          "execution_count": 6
        }
      ]
    },
    {
      "cell_type": "code",
      "source": [
        "import matplotlib.pyplot as plt\n",
        "revenue.plot(figsize=(10, 7))\n",
        "plt.ylabel(\"Revenue\")\n",
        "plt.title(\"Revenue from 1 Jan 2015 to 1 Des 2022\", fontsize=16)\n",
        "plt.legend(fontsize=14);"
      ],
      "metadata": {
        "colab": {
          "base_uri": "https://localhost:8080/",
          "height": 482
        },
        "id": "FXd8GRzFLSwR",
        "outputId": "5adad449-f8e3-4c23-8a21-bfc4b84dad0d"
      },
      "execution_count": null,
      "outputs": [
        {
          "output_type": "display_data",
          "data": {
            "text/plain": [
              "<Figure size 1000x700 with 1 Axes>"
            ],
            "image/png": "[encoded data removed]"
          },
          "metadata": {}
        }
      ]
    },
    {
      "cell_type": "code",
      "source": [
        " # Importing and formatting historical Bitcoin data with Python\n",
        "import csv\n",
        "from datetime import datetime\n",
        "import numpy as np\n",
        "\n",
        "timesteps = []\n",
        "revenue = []\n",
        "error = []\n",
        "with open(\"/content/Month_Value_1.csv\", \"r\") as f:\n",
        "    csv_reader = csv.reader(f, delimiter=\",\") # read in the target CSV\n",
        "    next(csv_reader) # skip first line (this gets rid of the column titles)\n",
        "    for line in csv_reader:\n",
        "        if line[1] != '':\n",
        "            timesteps.append(datetime.strptime(line[0], \"%d.%m.%Y\")) # get the dates as dates (not strings), strptime = string parse time\n",
        "      # print(line[1])\n",
        "            try:\n",
        "                revenue.append(float(line[1])) # get the closing price as float\n",
        "            except:\n",
        "                error.append(line[1])\n",
        "\n",
        "# View first 10 of each\n",
        "timesteps[:10], revenue[:10]\n"
      ],
      "metadata": {
        "colab": {
          "base_uri": "https://localhost:8080/"
        },
        "id": "bLxj5K9wMGiF",
        "outputId": "47ee0a33-4cf8-47b4-8b8e-596218dc0256"
      },
      "execution_count": null,
      "outputs": [
        {
          "output_type": "execute_result",
          "data": {
            "text/plain": [
              "([datetime.datetime(2015, 1, 1, 0, 0),\n",
              "  datetime.datetime(2015, 2, 1, 0, 0),\n",
              "  datetime.datetime(2015, 3, 1, 0, 0),\n",
              "  datetime.datetime(2015, 4, 1, 0, 0),\n",
              "  datetime.datetime(2015, 5, 1, 0, 0),\n",
              "  datetime.datetime(2015, 6, 1, 0, 0),\n",
              "  datetime.datetime(2015, 7, 1, 0, 0),\n",
              "  datetime.datetime(2015, 8, 1, 0, 0),\n",
              "  datetime.datetime(2015, 9, 1, 0, 0),\n",
              "  datetime.datetime(2015, 10, 1, 0, 0)],\n",
              " [16010072.1195,\n",
              "  15807587.449808,\n",
              "  22047146.023644,\n",
              "  18814583.29428,\n",
              "  14021479.611678,\n",
              "  16783928.522112,\n",
              "  19161892.194872,\n",
              "  15204984.296742,\n",
              "  20603939.9751,\n",
              "  20992874.780136])"
            ]
          },
          "metadata": {},
          "execution_count": 74
        }
      ]
    },
    {
      "cell_type": "code",
      "source": [
        "len(revenue)"
      ],
      "metadata": {
        "colab": {
          "base_uri": "https://localhost:8080/"
        },
        "id": "7VDWQ935R91K",
        "outputId": "f0c104c8-d962-487b-b6f3-1c2287d92403"
      },
      "execution_count": null,
      "outputs": [
        {
          "output_type": "execute_result",
          "data": {
            "text/plain": [
              "64"
            ]
          },
          "metadata": {},
          "execution_count": 75
        }
      ]
    },
    {
      "cell_type": "code",
      "source": [
        "len(timesteps)"
      ],
      "metadata": {
        "colab": {
          "base_uri": "https://localhost:8080/"
        },
        "id": "qKQA8reIYdM9",
        "outputId": "06f36a07-f87a-42b2-f744-e0aa90524185"
      },
      "execution_count": null,
      "outputs": [
        {
          "output_type": "execute_result",
          "data": {
            "text/plain": [
              "64"
            ]
          },
          "metadata": {},
          "execution_count": 77
        }
      ]
    },
    {
      "cell_type": "code",
      "source": [
        "error"
      ],
      "metadata": {
        "colab": {
          "base_uri": "https://localhost:8080/"
        },
        "id": "bAuJiisOMYUM",
        "outputId": "d6de7669-68d1-43d7-f62d-734c867bf7de"
      },
      "execution_count": null,
      "outputs": [
        {
          "output_type": "execute_result",
          "data": {
            "text/plain": [
              "[]"
            ]
          },
          "metadata": {},
          "execution_count": 76
        }
      ]
    },
    {
      "cell_type": "code",
      "source": [
        "# Plot from CSV\n",
        "import matplotlib.pyplot as plt\n",
        "import numpy as np\n",
        "plt.figure(figsize=(10, 7))\n",
        "plt.plot(timesteps, revenue)\n",
        "plt.title(\"Revenue from 1 Jan 2015 to 1 Des 2022\", fontsize=16)\n",
        "plt.xlabel(\"Period\")\n",
        "plt.ylabel(\"revenue\");"
      ],
      "metadata": {
        "colab": {
          "base_uri": "https://localhost:8080/",
          "height": 520
        },
        "id": "0sOkoUqgMnig",
        "outputId": "7fd99c9b-35bf-4ea6-a961-bc06d9002ebd"
      },
      "execution_count": null,
      "outputs": [
        {
          "output_type": "display_data",
          "data": {
            "text/plain": [
              "<Figure size 1000x700 with 1 Axes>"
            ],
            "image/png": "[encoded data removed]"
          },
          "metadata": {}
        }
      ]
    },
    {
      "cell_type": "code",
      "source": [
        "timesteps = df.index.to_numpy()\n",
        "revenue = df[\"Revenue\"].to_numpy()\n",
        "\n",
        "timesteps[:10], revenue[:10]"
      ],
      "metadata": {
        "colab": {
          "base_uri": "https://localhost:8080/"
        },
        "id": "7o-_qIcVNP98",
        "outputId": "52c13f56-8333-425f-d995-b3a12a23ea56"
      },
      "execution_count": null,
      "outputs": [
        {
          "output_type": "execute_result",
          "data": {
            "text/plain": [
              "(array(['2015-01-01T00:00:00.000000000', '2015-01-02T00:00:00.000000000',\n",
              "        '2015-01-03T00:00:00.000000000', '2015-01-04T00:00:00.000000000',\n",
              "        '2015-01-05T00:00:00.000000000', '2015-01-06T00:00:00.000000000',\n",
              "        '2015-01-07T00:00:00.000000000', '2015-01-08T00:00:00.000000000',\n",
              "        '2015-01-09T00:00:00.000000000', '2015-01-10T00:00:00.000000000'],\n",
              "       dtype='datetime64[ns]'),\n",
              " array([16010072.1195  , 15807587.449808, 22047146.023644, 18814583.29428 ,\n",
              "        14021479.611678, 16783928.522112, 19161892.194872, 15204984.296742,\n",
              "        20603939.9751  , 20992874.780136]))"
            ]
          },
          "metadata": {},
          "execution_count": 79
        }
      ]
    },
    {
      "cell_type": "code",
      "source": [
        "len(revenue)"
      ],
      "metadata": {
        "colab": {
          "base_uri": "https://localhost:8080/"
        },
        "id": "yJ1DZvLcRqGD",
        "outputId": "c0e85f2e-18ca-4e74-9c3a-a9985e67f63d"
      },
      "execution_count": null,
      "outputs": [
        {
          "output_type": "execute_result",
          "data": {
            "text/plain": [
              "64"
            ]
          },
          "metadata": {},
          "execution_count": 80
        }
      ]
    },
    {
      "cell_type": "code",
      "source": [
        "len(timesteps)"
      ],
      "metadata": {
        "colab": {
          "base_uri": "https://localhost:8080/"
        },
        "id": "uI5t18-RVGvE",
        "outputId": "7ce8c061-7949-44f7-b24e-46d8181b8173"
      },
      "execution_count": null,
      "outputs": [
        {
          "output_type": "execute_result",
          "data": {
            "text/plain": [
              "64"
            ]
          },
          "metadata": {},
          "execution_count": 81
        }
      ]
    },
    {
      "cell_type": "code",
      "source": [
        "# Create train and test splits the right way for time series data\n",
        "split_size = int(0.8 * len(revenue)) # 80% train, 20% test\n",
        "\n",
        "# Create train data splits (everything before the split)\n",
        "X_train, y_train = timesteps[:split_size], revenue[:split_size]\n",
        "\n",
        "# Create test data splits (everything after the split)\n",
        "X_test, y_test = timesteps[split_size:], revenue[split_size:]\n",
        "\n",
        "len(X_train), len(X_test), len(y_train), len(y_test)"
      ],
      "metadata": {
        "colab": {
          "base_uri": "https://localhost:8080/"
        },
        "id": "a3R3u9WRNZy2",
        "outputId": "8f047e3a-7916-4fcb-8c56-a71367f4edf3"
      },
      "execution_count": null,
      "outputs": [
        {
          "output_type": "execute_result",
          "data": {
            "text/plain": [
              "(51, 13, 51, 13)"
            ]
          },
          "metadata": {},
          "execution_count": 82
        }
      ]
    },
    {
      "cell_type": "code",
      "source": [],
      "metadata": {
        "colab": {
          "base_uri": "https://localhost:8080/"
        },
        "id": "9paTOLR4QIfu",
        "outputId": "aea83f13-cbec-43af-8a80-e230e5de49f4"
      },
      "execution_count": null,
      "outputs": [
        {
          "output_type": "stream",
          "name": "stdout",
          "text": [
            "X_test: [datetime.datetime(2019, 4, 1, 0, 0), datetime.datetime(2019, 5, 1, 0, 0), datetime.datetime(2019, 6, 1, 0, 0), datetime.datetime(2019, 7, 1, 0, 0), datetime.datetime(2019, 8, 1, 0, 0), datetime.datetime(2019, 9, 1, 0, 0), datetime.datetime(2019, 10, 1, 0, 0), datetime.datetime(2019, 11, 1, 0, 0), datetime.datetime(2019, 12, 1, 0, 0), datetime.datetime(2020, 1, 1, 0, 0), datetime.datetime(2020, 2, 1, 0, 0), datetime.datetime(2020, 3, 1, 0, 0), datetime.datetime(2020, 4, 1, 0, 0)]\n",
            "y_test: [32743989.6056, 32531657.5397, 47709701.6346, 45992141.57398, 36933665.022, 48526260.1344, 44160416.1824, 36374956.4944, 58756473.6608, 56288300.87, 40225243.264, 50022165.2325, 52320692.9428]\n",
            "y_train: [16010072.1195, 15807587.449808, 22047146.023644, 18814583.29428, 14021479.611678, 16783928.522112, 19161892.194872, 15204984.296742, 20603939.9751, 20992874.780136, 14993369.65763, 27791807.639848, 28601586.496, 22367074.065584, 29738608.568, 28351007.9388, 15264603.734865, 24385658.077056, 29486517.069955, 15270117.2565, 36141027.562, 27915143.655, 21272049.3454, 42014159.88396, 36007380.67, 30396775.3784, 47678130.72603, 27013964.728324, 24948844.698, 31101345.543, 33848822.228544, 16454666.958, 31650092.652, 31572205.6224, 22446371.0268, 44966125.7696, 44067520.858, 36020287.1553, 46995990.4125, 35536487.6848, 29699599.176, 33261065.3886, 35826534.9072, 23268655.2112, 35423489.85, 39831565.6974, 32999145.2096, 47221828.2018, 36459960.091485, 36546498.663015, 54198706.7196]\n",
            "X_train: [datetime.datetime(2015, 1, 1, 0, 0), datetime.datetime(2015, 2, 1, 0, 0), datetime.datetime(2015, 3, 1, 0, 0), datetime.datetime(2015, 4, 1, 0, 0), datetime.datetime(2015, 5, 1, 0, 0), datetime.datetime(2015, 6, 1, 0, 0), datetime.datetime(2015, 7, 1, 0, 0), datetime.datetime(2015, 8, 1, 0, 0), datetime.datetime(2015, 9, 1, 0, 0), datetime.datetime(2015, 10, 1, 0, 0), datetime.datetime(2015, 11, 1, 0, 0), datetime.datetime(2015, 12, 1, 0, 0), datetime.datetime(2016, 1, 1, 0, 0), datetime.datetime(2016, 2, 1, 0, 0), datetime.datetime(2016, 3, 1, 0, 0), datetime.datetime(2016, 4, 1, 0, 0), datetime.datetime(2016, 5, 1, 0, 0), datetime.datetime(2016, 6, 1, 0, 0), datetime.datetime(2016, 7, 1, 0, 0), datetime.datetime(2016, 8, 1, 0, 0), datetime.datetime(2016, 9, 1, 0, 0), datetime.datetime(2016, 10, 1, 0, 0), datetime.datetime(2016, 11, 1, 0, 0), datetime.datetime(2016, 12, 1, 0, 0), datetime.datetime(2017, 1, 1, 0, 0), datetime.datetime(2017, 2, 1, 0, 0), datetime.datetime(2017, 3, 1, 0, 0), datetime.datetime(2017, 4, 1, 0, 0), datetime.datetime(2017, 5, 1, 0, 0), datetime.datetime(2017, 6, 1, 0, 0), datetime.datetime(2017, 7, 1, 0, 0), datetime.datetime(2017, 8, 1, 0, 0), datetime.datetime(2017, 9, 1, 0, 0), datetime.datetime(2017, 10, 1, 0, 0), datetime.datetime(2017, 11, 1, 0, 0), datetime.datetime(2017, 12, 1, 0, 0), datetime.datetime(2018, 1, 1, 0, 0), datetime.datetime(2018, 2, 1, 0, 0), datetime.datetime(2018, 3, 1, 0, 0), datetime.datetime(2018, 4, 1, 0, 0), datetime.datetime(2018, 5, 1, 0, 0), datetime.datetime(2018, 6, 1, 0, 0), datetime.datetime(2018, 7, 1, 0, 0), datetime.datetime(2018, 8, 1, 0, 0), datetime.datetime(2018, 9, 1, 0, 0), datetime.datetime(2018, 10, 1, 0, 0), datetime.datetime(2018, 11, 1, 0, 0), datetime.datetime(2018, 12, 1, 0, 0), datetime.datetime(2019, 1, 1, 0, 0), datetime.datetime(2019, 2, 1, 0, 0), datetime.datetime(2019, 3, 1, 0, 0)]\n"
          ]
        }
      ]
    },
    {
      "cell_type": "code",
      "source": [
        "# Plot correctly made splits\n",
        "plt.figure(figsize=(10, 7))\n",
        "plt.scatter(X_train, y_train, s=5, label=\"Train data\")\n",
        "plt.scatter(X_test, y_test, s=5, label=\"Test data\")\n",
        "plt.xlabel(\"Period\")\n",
        "plt.ylabel(\"Revenue\")\n",
        "plt.legend(fontsize=14)\n",
        "plt.show();"
      ],
      "metadata": {
        "colab": {
          "base_uri": "https://localhost:8080/",
          "height": 513
        },
        "id": "envka-vPNd5e",
        "outputId": "c83eda94-31d6-45f3-c349-eedc7e30c623"
      },
      "execution_count": null,
      "outputs": [
        {
          "output_type": "display_data",
          "data": {
            "text/plain": [
              "<Figure size 1000x700 with 1 Axes>"
            ],
            "image/png": "[encoded data removed]"
          },
          "metadata": {}
        }
      ]
    },
    {
      "cell_type": "code",
      "source": [
        "# Create a function to plot time series data\n",
        "def plot_time_series(timesteps, values, format='.', start=0, end=None, label=None):\n",
        "    plt.plot(timesteps[start:end], values[start:end], format, label=label)\n",
        "    plt.xlabel(\"Time\")\n",
        "    plt.ylabel(\"Revenue\")\n",
        "    if label:\n",
        "        plt.legend(fontsize=14) # make label bigger\n",
        "    plt.grid(True)"
      ],
      "metadata": {
        "id": "jbEjM6cjNrEJ"
      },
      "execution_count": null,
      "outputs": []
    },
    {
      "cell_type": "code",
      "source": [
        "# Try out function\n",
        "plt.figure(figsize=(10, 7))\n",
        "plot_time_series(timesteps=X_train, values=y_train, label=\"Train data\")\n",
        "plot_time_series(timesteps=X_test, values=y_test, label=\"Test data\")"
      ],
      "metadata": {
        "colab": {
          "base_uri": "https://localhost:8080/",
          "height": 513
        },
        "id": "LmLuuhrwNx3O",
        "outputId": "d85259b8-c573-42b7-f62d-fe5613ec0dab"
      },
      "execution_count": null,
      "outputs": [
        {
          "output_type": "display_data",
          "data": {
            "text/plain": [
              "<Figure size 1000x700 with 1 Axes>"
            ],
            "image/png": "[encoded data removed]"
          },
          "metadata": {}
        }
      ]
    },
    {
      "cell_type": "code",
      "source": [
        "# Create a naïve forecast\n",
        "naive_forecast = y_test[:-1] # Naïve forecast equals every value excluding the last value\n",
        "naive_forecast[:10], naive_forecast[-10:] # View frist 10 and last 10"
      ],
      "metadata": {
        "colab": {
          "base_uri": "https://localhost:8080/"
        },
        "id": "7GPRpeyYN78P",
        "outputId": "900070dc-3a85-4f7f-eb8d-83e30364efec"
      },
      "execution_count": null,
      "outputs": [
        {
          "output_type": "execute_result",
          "data": {
            "text/plain": [
              "(array([32743989.6056 , 32531657.5397 , 47709701.6346 , 45992141.57398,\n",
              "        36933665.022  , 48526260.1344 , 44160416.1824 , 36374956.4944 ,\n",
              "        58756473.6608 , 56288300.87   ]),\n",
              " array([47709701.6346 , 45992141.57398, 36933665.022  , 48526260.1344 ,\n",
              "        44160416.1824 , 36374956.4944 , 58756473.6608 , 56288300.87   ,\n",
              "        40225243.264  , 50022165.2325 ]))"
            ]
          },
          "metadata": {},
          "execution_count": 86
        }
      ]
    },
    {
      "cell_type": "code",
      "source": [
        "# Plot naive forecast\n",
        "plt.figure(figsize=(10, 7))\n",
        "plot_time_series(timesteps=X_train, values=y_train, label=\"Train data\")\n",
        "plot_time_series(timesteps=X_test, values=y_test, label=\"Test data\")\n",
        "plot_time_series(timesteps=X_test[1:], values=naive_forecast, format=\"-\", label=\"Naive forecast\");"
      ],
      "metadata": {
        "colab": {
          "base_uri": "https://localhost:8080/",
          "height": 513
        },
        "id": "DWLza5UcN74u",
        "outputId": "a1dfb953-9097-481d-fe9f-2e7b86cec9e8"
      },
      "execution_count": null,
      "outputs": [
        {
          "output_type": "display_data",
          "data": {
            "text/plain": [
              "<Figure size 1000x700 with 1 Axes>"
            ],
            "image/png": "[encoded data removed]"
          },
          "metadata": {}
        }
      ]
    },
    {
      "cell_type": "code",
      "source": [
        "import tensorflow as tf"
      ],
      "metadata": {
        "id": "rUBpcXAgN71u"
      },
      "execution_count": null,
      "outputs": []
    },
    {
      "cell_type": "code",
      "source": [
        "# MASE implemented courtesy of sktime - https://github.com/alan-turing-institute/sktime/blob/ee7a06843a44f4aaec7582d847e36073a9ab0566/sktime/performance_metrics/forecasting/_functions.py#L16\n",
        "def mean_absolute_scaled_error(y_true, y_pred):\n",
        "    mae = tf.reduce_mean(tf.abs(y_true - y_pred))\n",
        "\n",
        "  # Find MAE of naive forecast (no seasonality)\n",
        "    mae_naive_no_season = tf.reduce_mean(tf.abs(y_true[1:] - y_true[:-1])) # our seasonality is 1 day (hence the shifting of 1 day)\n",
        "\n",
        "    return mae / mae_naive_no_season\n"
      ],
      "metadata": {
        "id": "iQrb7CwPNxwg"
      },
      "execution_count": null,
      "outputs": []
    },
    {
      "cell_type": "code",
      "source": [
        "def evaluate_preds(y_true, y_pred):\n",
        "  # Make sure float32 (for metric calculations)\n",
        "    y_true = tf.cast(y_true, dtype=tf.float32)\n",
        "    y_pred = tf.cast(y_pred, dtype=tf.float32)\n",
        "\n",
        "  # Calculate various metrics\n",
        "    mae = tf.keras.metrics.mean_absolute_error(y_true, y_pred)\n",
        "    mse = tf.keras.metrics.mean_squared_error(y_true, y_pred) # puts and emphasis on outliers (all errors get squared)\n",
        "    rmse = tf.sqrt(mse)\n",
        "    mape = tf.keras.metrics.mean_absolute_percentage_error(y_true, y_pred)\n",
        "    mase = mean_absolute_scaled_error(y_true, y_pred)\n",
        "\n",
        "    return {\"mae\": mae.numpy(),\n",
        "          \"mse\": mse.numpy(),\n",
        "          \"rmse\": rmse.numpy(),\n",
        "          \"mape\": mape.numpy(),\n",
        "          \"mase\": mase.numpy()}"
      ],
      "metadata": {
        "id": "w6J7JjKUZuna"
      },
      "execution_count": null,
      "outputs": []
    },
    {
      "cell_type": "code",
      "source": [
        "naive_results = evaluate_preds(y_true=y_test[1:],\n",
        "                               y_pred=naive_forecast)\n",
        "naive_results"
      ],
      "metadata": {
        "colab": {
          "base_uri": "https://localhost:8080/"
        },
        "id": "1vfCMzfCZujy",
        "outputId": "1aa02c75-1b01-47d2-9bbe-e019b0b58da4"
      },
      "execution_count": null,
      "outputs": [
        {
          "output_type": "execute_result",
          "data": {
            "text/plain": [
              "{'mae': 8576541.0,\n",
              " 'mse': 116316260000000.0,\n",
              " 'rmse': 10785002.0,\n",
              " 'mape': 18.524485,\n",
              " 'mase': 0.9185617}"
            ]
          },
          "metadata": {},
          "execution_count": 91
        }
      ]
    },
    {
      "cell_type": "code",
      "source": [
        "# Find average\n",
        "tf.reduce_mean(y_test).numpy()\n"
      ],
      "metadata": {
        "colab": {
          "base_uri": "https://localhost:8080/"
        },
        "id": "inffhJglZugW",
        "outputId": "e3a6994b-1fa0-4e92-d412-d718dfc59394"
      },
      "execution_count": null,
      "outputs": [
        {
          "output_type": "execute_result",
          "data": {
            "text/plain": [
              "44814281.85824462"
            ]
          },
          "metadata": {},
          "execution_count": 92
        }
      ]
    },
    {
      "cell_type": "code",
      "source": [
        "HORIZON = 1\n",
        "WINDOW_SIZE = 12"
      ],
      "metadata": {
        "id": "Dho1gl2sZuec"
      },
      "execution_count": null,
      "outputs": []
    },
    {
      "cell_type": "code",
      "source": [
        "# Create function to label windowed data\n",
        "def get_labelled_windows(x, horizon=1):\n",
        "    return x[:, :-horizon], x[:, -horizon:]\n"
      ],
      "metadata": {
        "id": "Hv_N0b5vZub6"
      },
      "execution_count": null,
      "outputs": []
    },
    {
      "cell_type": "code",
      "source": [
        "# Test out the window labelling function\n",
        "test_window, test_label = get_labelled_windows(tf.expand_dims(tf.range(8)+1, axis=0), horizon=HORIZON)\n",
        "print(f\"Window: {tf.squeeze(test_window).numpy()} -> Label: {tf.squeeze(test_label).numpy()}\")"
      ],
      "metadata": {
        "colab": {
          "base_uri": "https://localhost:8080/"
        },
        "id": "i6-cuuK8ZuYW",
        "outputId": "a4f121db-35bf-4eaf-ca26-8914a347f8ed"
      },
      "execution_count": null,
      "outputs": [
        {
          "output_type": "stream",
          "name": "stdout",
          "text": [
            "Window: [1 2 3 4 5 6 7] -> Label: 8\n"
          ]
        }
      ]
    },
    {
      "cell_type": "code",
      "source": [
        "# Create function to view NumPy arrays as windows\n",
        "def make_windows(x, window_size=7, horizon=1):\n",
        "\n",
        "  # 1. Create a window of specific window_size (add the horizon on the end for later labelling)\n",
        "    window_step = np.expand_dims(np.arange(window_size+horizon), axis=0)\n",
        "  # print(f\"Window step:\\n {window_step}\")\n",
        "\n",
        "  # 2. Create a 2D array of multiple window steps (minus 1 to account for 0 indexing)\n",
        "    window_indexes = window_step + np.expand_dims(np.arange(len(x)-(window_size+horizon-1)), axis=0).T # create 2D array of windows of size window_size\n",
        "  # print(f\"Window indexes:\\n {window_indexes[:3], window_indexes[-3:], window_indexes.shape}\")\n",
        "\n",
        "  # 3. Index on the target array (time series) with 2D array of multiple window steps\n",
        "    windowed_array = x[window_indexes]\n",
        "\n",
        "  # 4. Get the labelled windows\n",
        "    windows, labels = get_labelled_windows(windowed_array, horizon=horizon)\n",
        "\n",
        "    return windows, labels"
      ],
      "metadata": {
        "id": "xut5uo0RZuVE"
      },
      "execution_count": null,
      "outputs": []
    },
    {
      "cell_type": "code",
      "source": [
        "revenue"
      ],
      "metadata": {
        "colab": {
          "base_uri": "https://localhost:8080/"
        },
        "id": "-TckI-_cZuSj",
        "outputId": "b3f42fa1-031c-4b1e-cc52-fdf6cf4e245f"
      },
      "execution_count": null,
      "outputs": [
        {
          "output_type": "execute_result",
          "data": {
            "text/plain": [
              "array([16010072.1195  , 15807587.449808, 22047146.023644, 18814583.29428 ,\n",
              "       14021479.611678, 16783928.522112, 19161892.194872, 15204984.296742,\n",
              "       20603939.9751  , 20992874.780136, 14993369.65763 , 27791807.639848,\n",
              "       28601586.496   , 22367074.065584, 29738608.568   , 28351007.9388  ,\n",
              "       15264603.734865, 24385658.077056, 29486517.069955, 15270117.2565  ,\n",
              "       36141027.562   , 27915143.655   , 21272049.3454  , 42014159.88396 ,\n",
              "       36007380.67    , 30396775.3784  , 47678130.72603 , 27013964.728324,\n",
              "       24948844.698   , 31101345.543   , 33848822.228544, 16454666.958   ,\n",
              "       31650092.652   , 31572205.6224  , 22446371.0268  , 44966125.7696  ,\n",
              "       44067520.858   , 36020287.1553  , 46995990.4125  , 35536487.6848  ,\n",
              "       29699599.176   , 33261065.3886  , 35826534.9072  , 23268655.2112  ,\n",
              "       35423489.85    , 39831565.6974  , 32999145.2096  , 47221828.2018  ,\n",
              "       36459960.091485, 36546498.663015, 54198706.7196  , 32743989.6056  ,\n",
              "       32531657.5397  , 47709701.6346  , 45992141.57398 , 36933665.022   ,\n",
              "       48526260.1344  , 44160416.1824  , 36374956.4944  , 58756473.6608  ,\n",
              "       56288300.87    , 40225243.264   , 50022165.2325  , 52320692.9428  ])"
            ]
          },
          "metadata": {},
          "execution_count": 97
        }
      ]
    },
    {
      "cell_type": "code",
      "source": [
        "full_windows, full_labels = make_windows(revenue, window_size=WINDOW_SIZE, horizon=HORIZON)\n",
        "len(full_windows), len(full_labels)"
      ],
      "metadata": {
        "colab": {
          "base_uri": "https://localhost:8080/"
        },
        "id": "OZd7uf8QZuJp",
        "outputId": "54560b86-1c61-4e6c-9325-0d128ab15bc0"
      },
      "execution_count": null,
      "outputs": [
        {
          "output_type": "execute_result",
          "data": {
            "text/plain": [
              "(52, 52)"
            ]
          },
          "metadata": {},
          "execution_count": 98
        }
      ]
    },
    {
      "cell_type": "code",
      "source": [
        "# View the first 3 windows/labels\n",
        "for i in range(3):\n",
        "    print(f\"Window: {full_windows[i]} -> Label: {full_labels[i]}\")"
      ],
      "metadata": {
        "colab": {
          "base_uri": "https://localhost:8080/"
        },
        "id": "nzm6mMKmahCc",
        "outputId": "4ba63876-649f-4afd-fa70-0059e71d8648"
      },
      "execution_count": null,
      "outputs": [
        {
          "output_type": "stream",
          "name": "stdout",
          "text": [
            "Window: [16010072.1195   15807587.449808 22047146.023644 18814583.29428\n",
            " 14021479.611678 16783928.522112 19161892.194872 15204984.296742\n",
            " 20603939.9751   20992874.780136 14993369.65763  27791807.639848] -> Label: [28601586.496]\n",
            "Window: [15807587.449808 22047146.023644 18814583.29428  14021479.611678\n",
            " 16783928.522112 19161892.194872 15204984.296742 20603939.9751\n",
            " 20992874.780136 14993369.65763  27791807.639848 28601586.496   ] -> Label: [22367074.065584]\n",
            "Window: [22047146.023644 18814583.29428  14021479.611678 16783928.522112\n",
            " 19161892.194872 15204984.296742 20603939.9751   20992874.780136\n",
            " 14993369.65763  27791807.639848 28601586.496    22367074.065584] -> Label: [29738608.568]\n"
          ]
        }
      ]
    },
    {
      "cell_type": "code",
      "source": [
        "# View the last 3 windows/labels\n",
        "for i in range(3):\n",
        "    print(f\"Window: {full_windows[i-3]} -> Label: {full_labels[i-3]}\")"
      ],
      "metadata": {
        "colab": {
          "base_uri": "https://localhost:8080/"
        },
        "id": "z8VOEq0vag_Y",
        "outputId": "9879e0ec-f8dd-4673-dafa-ada673a2bd0b"
      },
      "execution_count": null,
      "outputs": [
        {
          "output_type": "stream",
          "name": "stdout",
          "text": [
            "Window: [36546498.663015 54198706.7196   32743989.6056   32531657.5397\n",
            " 47709701.6346   45992141.57398  36933665.022    48526260.1344\n",
            " 44160416.1824   36374956.4944   58756473.6608   56288300.87    ] -> Label: [40225243.264]\n",
            "Window: [54198706.7196  32743989.6056  32531657.5397  47709701.6346\n",
            " 45992141.57398 36933665.022   48526260.1344  44160416.1824\n",
            " 36374956.4944  58756473.6608  56288300.87    40225243.264  ] -> Label: [50022165.2325]\n",
            "Window: [32743989.6056  32531657.5397  47709701.6346  45992141.57398\n",
            " 36933665.022   48526260.1344  44160416.1824  36374956.4944\n",
            " 58756473.6608  56288300.87    40225243.264   50022165.2325 ] -> Label: [52320692.9428]\n"
          ]
        }
      ]
    },
    {
      "cell_type": "code",
      "source": [
        "# Make the train/test splits\n",
        "def make_train_test_splits(windows, labels, test_split=0.2):\n",
        "    split_size = int(len(windows) * (1-test_split)) # this will default to 80% train/20% test\n",
        "    train_windows = windows[:split_size]\n",
        "    train_labels = labels[:split_size]\n",
        "    test_windows = windows[split_size:]\n",
        "    test_labels = labels[split_size:]\n",
        "    return train_windows, test_windows, train_labels, test_labels"
      ],
      "metadata": {
        "id": "NtqvAFXYag79"
      },
      "execution_count": null,
      "outputs": []
    },
    {
      "cell_type": "code",
      "source": [
        "train_windows, test_windows, train_labels, test_labels = make_train_test_splits(full_windows, full_labels)\n",
        "len(train_windows), len(test_windows), len(train_labels), len(test_labels)"
      ],
      "metadata": {
        "colab": {
          "base_uri": "https://localhost:8080/"
        },
        "id": "72TAKl4Nag4m",
        "outputId": "6a494d12-7c09-4193-cd65-1be39203a44a"
      },
      "execution_count": null,
      "outputs": [
        {
          "output_type": "execute_result",
          "data": {
            "text/plain": [
              "(41, 11, 41, 11)"
            ]
          },
          "metadata": {},
          "execution_count": 102
        }
      ]
    },
    {
      "cell_type": "code",
      "source": [
        "train_windows[:5], train_labels[:5]"
      ],
      "metadata": {
        "colab": {
          "base_uri": "https://localhost:8080/"
        },
        "id": "wFCcnXMbaxQi",
        "outputId": "56bed296-c457-4960-da51-89696f4c0327"
      },
      "execution_count": null,
      "outputs": [
        {
          "output_type": "execute_result",
          "data": {
            "text/plain": [
              "(array([[16010072.1195  , 15807587.449808, 22047146.023644,\n",
              "         18814583.29428 , 14021479.611678, 16783928.522112,\n",
              "         19161892.194872, 15204984.296742, 20603939.9751  ,\n",
              "         20992874.780136, 14993369.65763 , 27791807.639848],\n",
              "        [15807587.449808, 22047146.023644, 18814583.29428 ,\n",
              "         14021479.611678, 16783928.522112, 19161892.194872,\n",
              "         15204984.296742, 20603939.9751  , 20992874.780136,\n",
              "         14993369.65763 , 27791807.639848, 28601586.496   ],\n",
              "        [22047146.023644, 18814583.29428 , 14021479.611678,\n",
              "         16783928.522112, 19161892.194872, 15204984.296742,\n",
              "         20603939.9751  , 20992874.780136, 14993369.65763 ,\n",
              "         27791807.639848, 28601586.496   , 22367074.065584],\n",
              "        [18814583.29428 , 14021479.611678, 16783928.522112,\n",
              "         19161892.194872, 15204984.296742, 20603939.9751  ,\n",
              "         20992874.780136, 14993369.65763 , 27791807.639848,\n",
              "         28601586.496   , 22367074.065584, 29738608.568   ],\n",
              "        [14021479.611678, 16783928.522112, 19161892.194872,\n",
              "         15204984.296742, 20603939.9751  , 20992874.780136,\n",
              "         14993369.65763 , 27791807.639848, 28601586.496   ,\n",
              "         22367074.065584, 29738608.568   , 28351007.9388  ]]),\n",
              " array([[28601586.496   ],\n",
              "        [22367074.065584],\n",
              "        [29738608.568   ],\n",
              "        [28351007.9388  ],\n",
              "        [15264603.734865]]))"
            ]
          },
          "metadata": {},
          "execution_count": 104
        }
      ]
    },
    {
      "cell_type": "code",
      "source": [
        "# Check to see if same (accounting for horizon and window size)\n",
        "np.array_equal(np.squeeze(train_labels[:-HORIZON-1]), y_train[WINDOW_SIZE:])"
      ],
      "metadata": {
        "colab": {
          "base_uri": "https://localhost:8080/"
        },
        "id": "kVShT_m5axNK",
        "outputId": "d498640c-339a-4299-e324-5c328abb5ea8"
      },
      "execution_count": null,
      "outputs": [
        {
          "output_type": "execute_result",
          "data": {
            "text/plain": [
              "True"
            ]
          },
          "metadata": {},
          "execution_count": 105
        }
      ]
    },
    {
      "cell_type": "code",
      "source": [
        "import tensorflow as tf\n",
        "from tensorflow.keras import layers\n",
        "# Set random seed for as reproducible results as possible\n",
        "tf.random.set_seed(42)\n",
        "\n",
        "# Construct model\n",
        "model_1 = tf.keras.Sequential([\n",
        "  layers.Dense(128, activation=\"relu\"),\n",
        "  layers.Dense(HORIZON, activation=\"linear\") # linear activation is the same as having no activation\n",
        "], name=\"model_1_dense\") # give the model a name so we can save it\n",
        "\n",
        "# Compile model\n",
        "model_1.compile(loss=\"mae\",\n",
        "                optimizer=tf.keras.optimizers.Adam(),\n",
        "                metrics=[\"mae\"]) # we don't necessarily need this when the loss function is already MAE\n",
        "\n",
        "# Fit model\n",
        "model_1.fit(x=train_windows, # train windows of 7 timesteps of Bitcoin prices\n",
        "            y=train_labels, # horizon value of 1 (using the previous 7 timesteps to predict next day)\n",
        "            epochs=100,\n",
        "            verbose=1,\n",
        "            batch_size=128,\n",
        "            validation_data=(test_windows, test_labels))"
      ],
      "metadata": {
        "colab": {
          "base_uri": "https://localhost:8080/"
        },
        "id": "fpX3-v_FaxJp",
        "outputId": "4838801b-6d0c-42fe-9a8d-2bbb7b381c76"
      },
      "execution_count": null,
      "outputs": [
        {
          "output_type": "stream",
          "name": "stdout",
          "text": [
            "Epoch 1/100\n",
            "1/1 [==============================] - 1s 1s/step - loss: 30380590.0000 - mae: 30380590.0000 - val_loss: 40555920.0000 - val_mae: 40555920.0000\n",
            "Epoch 2/100\n",
            "1/1 [==============================] - 0s 48ms/step - loss: 27462176.0000 - mae: 27462176.0000 - val_loss: 36409496.0000 - val_mae: 36409496.0000\n",
            "Epoch 3/100\n",
            "1/1 [==============================] - 0s 44ms/step - loss: 24526552.0000 - mae: 24526552.0000 - val_loss: 32246104.0000 - val_mae: 32246104.0000\n",
            "Epoch 4/100\n",
            "1/1 [==============================] - 0s 65ms/step - loss: 21641502.0000 - mae: 21641502.0000 - val_loss: 28082158.0000 - val_mae: 28082158.0000\n",
            "Epoch 5/100\n",
            "1/1 [==============================] - 0s 58ms/step - loss: 18852558.0000 - mae: 18852558.0000 - val_loss: 23901220.0000 - val_mae: 23901220.0000\n",
            "Epoch 6/100\n",
            "1/1 [==============================] - 0s 43ms/step - loss: 16147027.0000 - mae: 16147027.0000 - val_loss: 19737696.0000 - val_mae: 19737696.0000\n",
            "Epoch 7/100\n",
            "1/1 [==============================] - 0s 44ms/step - loss: 13668655.0000 - mae: 13668655.0000 - val_loss: 15561094.0000 - val_mae: 15561094.0000\n",
            "Epoch 8/100\n",
            "1/1 [==============================] - 0s 47ms/step - loss: 11512017.0000 - mae: 11512017.0000 - val_loss: 12852774.0000 - val_mae: 12852774.0000\n",
            "Epoch 9/100\n",
            "1/1 [==============================] - 0s 46ms/step - loss: 9659948.0000 - mae: 9659948.0000 - val_loss: 11060617.0000 - val_mae: 11060617.0000\n",
            "Epoch 10/100\n",
            "1/1 [==============================] - 0s 50ms/step - loss: 8482288.0000 - mae: 8482288.0000 - val_loss: 9365541.0000 - val_mae: 9365541.0000\n",
            "Epoch 11/100\n",
            "1/1 [==============================] - 0s 45ms/step - loss: 7977729.5000 - mae: 7977729.5000 - val_loss: 7820347.0000 - val_mae: 7820347.0000\n",
            "Epoch 12/100\n",
            "1/1 [==============================] - 0s 64ms/step - loss: 8056180.5000 - mae: 8056180.5000 - val_loss: 6857670.0000 - val_mae: 6857670.0000\n",
            "Epoch 13/100\n",
            "1/1 [==============================] - 0s 60ms/step - loss: 8463194.0000 - mae: 8463194.0000 - val_loss: 7572723.0000 - val_mae: 7572723.0000\n",
            "Epoch 14/100\n",
            "1/1 [==============================] - 0s 43ms/step - loss: 8891135.0000 - mae: 8891135.0000 - val_loss: 8518743.0000 - val_mae: 8518743.0000\n",
            "Epoch 15/100\n",
            "1/1 [==============================] - 0s 66ms/step - loss: 9230824.0000 - mae: 9230824.0000 - val_loss: 9282181.0000 - val_mae: 9282181.0000\n",
            "Epoch 16/100\n",
            "1/1 [==============================] - 0s 67ms/step - loss: 9515379.0000 - mae: 9515379.0000 - val_loss: 9708127.0000 - val_mae: 9708127.0000\n",
            "Epoch 17/100\n",
            "1/1 [==============================] - 0s 42ms/step - loss: 9691818.0000 - mae: 9691818.0000 - val_loss: 9813703.0000 - val_mae: 9813703.0000\n",
            "Epoch 18/100\n",
            "1/1 [==============================] - 0s 60ms/step - loss: 9716377.0000 - mae: 9716377.0000 - val_loss: 9640953.0000 - val_mae: 9640953.0000\n",
            "Epoch 19/100\n",
            "1/1 [==============================] - 0s 45ms/step - loss: 9583950.0000 - mae: 9583950.0000 - val_loss: 9229135.0000 - val_mae: 9229135.0000\n",
            "Epoch 20/100\n",
            "1/1 [==============================] - 0s 70ms/step - loss: 9317581.0000 - mae: 9317581.0000 - val_loss: 8621096.0000 - val_mae: 8621096.0000\n",
            "Epoch 21/100\n",
            "1/1 [==============================] - 0s 42ms/step - loss: 8968790.0000 - mae: 8968790.0000 - val_loss: 7893331.0000 - val_mae: 7893331.0000\n",
            "Epoch 22/100\n",
            "1/1 [==============================] - 0s 41ms/step - loss: 8601527.0000 - mae: 8601527.0000 - val_loss: 7288414.5000 - val_mae: 7288414.5000\n",
            "Epoch 23/100\n",
            "1/1 [==============================] - 0s 44ms/step - loss: 8217455.5000 - mae: 8217455.5000 - val_loss: 6730029.0000 - val_mae: 6730029.0000\n",
            "Epoch 24/100\n",
            "1/1 [==============================] - 0s 39ms/step - loss: 7839560.5000 - mae: 7839560.5000 - val_loss: 6321197.0000 - val_mae: 6321197.0000\n",
            "Epoch 25/100\n",
            "1/1 [==============================] - 0s 50ms/step - loss: 7466934.5000 - mae: 7466934.5000 - val_loss: 6241922.0000 - val_mae: 6241922.0000\n",
            "Epoch 26/100\n",
            "1/1 [==============================] - 0s 44ms/step - loss: 7134477.5000 - mae: 7134477.5000 - val_loss: 6489550.5000 - val_mae: 6489550.5000\n",
            "Epoch 27/100\n",
            "1/1 [==============================] - 0s 61ms/step - loss: 6972228.5000 - mae: 6972228.5000 - val_loss: 6807796.5000 - val_mae: 6807796.5000\n",
            "Epoch 28/100\n",
            "1/1 [==============================] - 0s 44ms/step - loss: 6872986.0000 - mae: 6872986.0000 - val_loss: 7252907.5000 - val_mae: 7252907.5000\n",
            "Epoch 29/100\n",
            "1/1 [==============================] - 0s 46ms/step - loss: 6800015.5000 - mae: 6800015.5000 - val_loss: 7625235.0000 - val_mae: 7625235.0000\n",
            "Epoch 30/100\n",
            "1/1 [==============================] - 0s 44ms/step - loss: 6794222.0000 - mae: 6794222.0000 - val_loss: 7926162.0000 - val_mae: 7926162.0000\n",
            "Epoch 31/100\n",
            "1/1 [==============================] - 0s 42ms/step - loss: 6800089.0000 - mae: 6800089.0000 - val_loss: 8154645.0000 - val_mae: 8154645.0000\n",
            "Epoch 32/100\n",
            "1/1 [==============================] - 0s 44ms/step - loss: 6802671.5000 - mae: 6802671.5000 - val_loss: 8306126.5000 - val_mae: 8306126.5000\n",
            "Epoch 33/100\n",
            "1/1 [==============================] - 0s 45ms/step - loss: 6796058.5000 - mae: 6796058.5000 - val_loss: 8365384.0000 - val_mae: 8365384.0000\n",
            "Epoch 34/100\n",
            "1/1 [==============================] - 0s 47ms/step - loss: 6763070.5000 - mae: 6763070.5000 - val_loss: 8343894.5000 - val_mae: 8343894.5000\n",
            "Epoch 35/100\n",
            "1/1 [==============================] - 0s 65ms/step - loss: 6703741.0000 - mae: 6703741.0000 - val_loss: 8229720.5000 - val_mae: 8229720.5000\n",
            "Epoch 36/100\n",
            "1/1 [==============================] - 0s 43ms/step - loss: 6609579.0000 - mae: 6609579.0000 - val_loss: 8025830.0000 - val_mae: 8025830.0000\n",
            "Epoch 37/100\n",
            "1/1 [==============================] - 0s 63ms/step - loss: 6490580.5000 - mae: 6490580.5000 - val_loss: 7753408.0000 - val_mae: 7753408.0000\n",
            "Epoch 38/100\n",
            "1/1 [==============================] - 0s 43ms/step - loss: 6362982.0000 - mae: 6362982.0000 - val_loss: 7436408.0000 - val_mae: 7436408.0000\n",
            "Epoch 39/100\n",
            "1/1 [==============================] - 0s 60ms/step - loss: 6224469.5000 - mae: 6224469.5000 - val_loss: 7076017.5000 - val_mae: 7076017.5000\n",
            "Epoch 40/100\n",
            "1/1 [==============================] - 0s 46ms/step - loss: 6115990.5000 - mae: 6115990.5000 - val_loss: 6714033.5000 - val_mae: 6714033.5000\n",
            "Epoch 41/100\n",
            "1/1 [==============================] - 0s 70ms/step - loss: 6019103.0000 - mae: 6019103.0000 - val_loss: 6372814.0000 - val_mae: 6372814.0000\n",
            "Epoch 42/100\n",
            "1/1 [==============================] - 0s 59ms/step - loss: 5925057.0000 - mae: 5925057.0000 - val_loss: 6160097.5000 - val_mae: 6160097.5000\n",
            "Epoch 43/100\n",
            "1/1 [==============================] - 0s 60ms/step - loss: 5882947.5000 - mae: 5882947.5000 - val_loss: 5973381.0000 - val_mae: 5973381.0000\n",
            "Epoch 44/100\n",
            "1/1 [==============================] - 0s 44ms/step - loss: 5841455.5000 - mae: 5841455.5000 - val_loss: 5806278.5000 - val_mae: 5806278.5000\n",
            "Epoch 45/100\n",
            "1/1 [==============================] - 0s 64ms/step - loss: 5809903.0000 - mae: 5809903.0000 - val_loss: 5733539.5000 - val_mae: 5733539.5000\n",
            "Epoch 46/100\n",
            "1/1 [==============================] - 0s 60ms/step - loss: 5779693.0000 - mae: 5779693.0000 - val_loss: 5678882.5000 - val_mae: 5678882.5000\n",
            "Epoch 47/100\n",
            "1/1 [==============================] - 0s 62ms/step - loss: 5745385.0000 - mae: 5745385.0000 - val_loss: 5636324.5000 - val_mae: 5636324.5000\n",
            "Epoch 48/100\n",
            "1/1 [==============================] - 0s 44ms/step - loss: 5704889.0000 - mae: 5704889.0000 - val_loss: 5606450.0000 - val_mae: 5606450.0000\n",
            "Epoch 49/100\n",
            "1/1 [==============================] - 0s 42ms/step - loss: 5658108.0000 - mae: 5658108.0000 - val_loss: 5587257.0000 - val_mae: 5587257.0000\n",
            "Epoch 50/100\n",
            "1/1 [==============================] - 0s 59ms/step - loss: 5604575.0000 - mae: 5604575.0000 - val_loss: 5576775.5000 - val_mae: 5576775.5000\n",
            "Epoch 51/100\n",
            "1/1 [==============================] - 0s 55ms/step - loss: 5544391.5000 - mae: 5544391.5000 - val_loss: 5577248.5000 - val_mae: 5577248.5000\n",
            "Epoch 52/100\n",
            "1/1 [==============================] - 0s 63ms/step - loss: 5478755.0000 - mae: 5478755.0000 - val_loss: 5598932.5000 - val_mae: 5598932.5000\n",
            "Epoch 53/100\n",
            "1/1 [==============================] - 0s 38ms/step - loss: 5407989.0000 - mae: 5407989.0000 - val_loss: 5685657.0000 - val_mae: 5685657.0000\n",
            "Epoch 54/100\n",
            "1/1 [==============================] - 0s 37ms/step - loss: 5333229.5000 - mae: 5333229.5000 - val_loss: 5790032.5000 - val_mae: 5790032.5000\n",
            "Epoch 55/100\n",
            "1/1 [==============================] - 0s 61ms/step - loss: 5253667.5000 - mae: 5253667.5000 - val_loss: 5910077.5000 - val_mae: 5910077.5000\n",
            "Epoch 56/100\n",
            "1/1 [==============================] - 0s 54ms/step - loss: 5168639.5000 - mae: 5168639.5000 - val_loss: 6045335.5000 - val_mae: 6045335.5000\n",
            "Epoch 57/100\n",
            "1/1 [==============================] - 0s 44ms/step - loss: 5106637.5000 - mae: 5106637.5000 - val_loss: 6138199.5000 - val_mae: 6138199.5000\n",
            "Epoch 58/100\n",
            "1/1 [==============================] - 0s 39ms/step - loss: 5111232.0000 - mae: 5111232.0000 - val_loss: 6164805.0000 - val_mae: 6164805.0000\n",
            "Epoch 59/100\n",
            "1/1 [==============================] - 0s 42ms/step - loss: 5086060.5000 - mae: 5086060.5000 - val_loss: 6126058.0000 - val_mae: 6126058.0000\n",
            "Epoch 60/100\n",
            "1/1 [==============================] - 0s 59ms/step - loss: 5027149.0000 - mae: 5027149.0000 - val_loss: 6021444.0000 - val_mae: 6021444.0000\n",
            "Epoch 61/100\n",
            "1/1 [==============================] - 0s 56ms/step - loss: 4937235.0000 - mae: 4937235.0000 - val_loss: 5856425.0000 - val_mae: 5856425.0000\n",
            "Epoch 62/100\n",
            "1/1 [==============================] - 0s 37ms/step - loss: 4877277.0000 - mae: 4877277.0000 - val_loss: 5719909.5000 - val_mae: 5719909.5000\n",
            "Epoch 63/100\n",
            "1/1 [==============================] - 0s 46ms/step - loss: 4853449.0000 - mae: 4853449.0000 - val_loss: 5621758.0000 - val_mae: 5621758.0000\n",
            "Epoch 64/100\n",
            "1/1 [==============================] - 0s 40ms/step - loss: 4825056.5000 - mae: 4825056.5000 - val_loss: 5560579.0000 - val_mae: 5560579.0000\n",
            "Epoch 65/100\n",
            "1/1 [==============================] - 0s 64ms/step - loss: 4785543.0000 - mae: 4785543.0000 - val_loss: 5534023.5000 - val_mae: 5534023.5000\n",
            "Epoch 66/100\n",
            "1/1 [==============================] - 0s 42ms/step - loss: 4735667.5000 - mae: 4735667.5000 - val_loss: 5559334.0000 - val_mae: 5559334.0000\n",
            "Epoch 67/100\n",
            "1/1 [==============================] - 0s 59ms/step - loss: 4670710.0000 - mae: 4670710.0000 - val_loss: 5610686.0000 - val_mae: 5610686.0000\n",
            "Epoch 68/100\n",
            "1/1 [==============================] - 0s 39ms/step - loss: 4608024.5000 - mae: 4608024.5000 - val_loss: 5658910.0000 - val_mae: 5658910.0000\n",
            "Epoch 69/100\n",
            "1/1 [==============================] - 0s 59ms/step - loss: 4575332.5000 - mae: 4575332.5000 - val_loss: 5667245.5000 - val_mae: 5667245.5000\n",
            "Epoch 70/100\n",
            "1/1 [==============================] - 0s 40ms/step - loss: 4542455.0000 - mae: 4542455.0000 - val_loss: 5638602.0000 - val_mae: 5638602.0000\n",
            "Epoch 71/100\n",
            "1/1 [==============================] - 0s 40ms/step - loss: 4500031.5000 - mae: 4500031.5000 - val_loss: 5575288.5000 - val_mae: 5575288.5000\n",
            "Epoch 72/100\n",
            "1/1 [==============================] - 0s 51ms/step - loss: 4449012.0000 - mae: 4449012.0000 - val_loss: 5479431.5000 - val_mae: 5479431.5000\n",
            "Epoch 73/100\n",
            "1/1 [==============================] - 0s 53ms/step - loss: 4392315.0000 - mae: 4392315.0000 - val_loss: 5369063.0000 - val_mae: 5369063.0000\n",
            "Epoch 74/100\n",
            "1/1 [==============================] - 0s 56ms/step - loss: 4338477.0000 - mae: 4338477.0000 - val_loss: 5249858.0000 - val_mae: 5249858.0000\n",
            "Epoch 75/100\n",
            "1/1 [==============================] - 0s 46ms/step - loss: 4285922.5000 - mae: 4285922.5000 - val_loss: 5122219.5000 - val_mae: 5122219.5000\n",
            "Epoch 76/100\n",
            "1/1 [==============================] - 0s 40ms/step - loss: 4270972.5000 - mae: 4270972.5000 - val_loss: 5052461.0000 - val_mae: 5052461.0000\n",
            "Epoch 77/100\n",
            "1/1 [==============================] - 0s 37ms/step - loss: 4249322.0000 - mae: 4249322.0000 - val_loss: 5048440.5000 - val_mae: 5048440.5000\n",
            "Epoch 78/100\n",
            "1/1 [==============================] - 0s 37ms/step - loss: 4200607.0000 - mae: 4200607.0000 - val_loss: 5107243.5000 - val_mae: 5107243.5000\n",
            "Epoch 79/100\n",
            "1/1 [==============================] - 0s 41ms/step - loss: 4153987.5000 - mae: 4153987.5000 - val_loss: 5197323.5000 - val_mae: 5197323.5000\n",
            "Epoch 80/100\n",
            "1/1 [==============================] - 0s 37ms/step - loss: 4134773.0000 - mae: 4134773.0000 - val_loss: 5246412.5000 - val_mae: 5246412.5000\n",
            "Epoch 81/100\n",
            "1/1 [==============================] - 0s 41ms/step - loss: 4113490.0000 - mae: 4113490.0000 - val_loss: 5258763.5000 - val_mae: 5258763.5000\n",
            "Epoch 82/100\n",
            "1/1 [==============================] - 0s 41ms/step - loss: 4088780.0000 - mae: 4088780.0000 - val_loss: 5237576.5000 - val_mae: 5237576.5000\n",
            "Epoch 83/100\n",
            "1/1 [==============================] - 0s 44ms/step - loss: 4060524.5000 - mae: 4060524.5000 - val_loss: 5182582.0000 - val_mae: 5182582.0000\n",
            "Epoch 84/100\n",
            "1/1 [==============================] - 0s 41ms/step - loss: 4029198.5000 - mae: 4029198.5000 - val_loss: 5098996.0000 - val_mae: 5098996.0000\n",
            "Epoch 85/100\n",
            "1/1 [==============================] - 0s 40ms/step - loss: 3994888.2500 - mae: 3994888.2500 - val_loss: 4992169.5000 - val_mae: 4992169.5000\n",
            "Epoch 86/100\n",
            "1/1 [==============================] - 0s 38ms/step - loss: 3971953.5000 - mae: 3971953.5000 - val_loss: 4993806.0000 - val_mae: 4993806.0000\n",
            "Epoch 87/100\n",
            "1/1 [==============================] - 0s 40ms/step - loss: 3963951.5000 - mae: 3963951.5000 - val_loss: 5000161.5000 - val_mae: 5000161.5000\n",
            "Epoch 88/100\n",
            "1/1 [==============================] - 0s 40ms/step - loss: 3943669.7500 - mae: 3943669.7500 - val_loss: 5018387.5000 - val_mae: 5018387.5000\n",
            "Epoch 89/100\n",
            "1/1 [==============================] - 0s 58ms/step - loss: 3916859.7500 - mae: 3916859.7500 - val_loss: 5086477.0000 - val_mae: 5086477.0000\n",
            "Epoch 90/100\n",
            "1/1 [==============================] - 0s 40ms/step - loss: 3899636.2500 - mae: 3899636.2500 - val_loss: 5146923.5000 - val_mae: 5146923.5000\n",
            "Epoch 91/100\n",
            "1/1 [==============================] - 0s 56ms/step - loss: 3881819.2500 - mae: 3881819.2500 - val_loss: 5198726.0000 - val_mae: 5198726.0000\n",
            "Epoch 92/100\n",
            "1/1 [==============================] - 0s 44ms/step - loss: 3864231.7500 - mae: 3864231.7500 - val_loss: 5242682.5000 - val_mae: 5242682.5000\n",
            "Epoch 93/100\n",
            "1/1 [==============================] - 0s 49ms/step - loss: 3852667.2500 - mae: 3852667.2500 - val_loss: 5240604.5000 - val_mae: 5240604.5000\n",
            "Epoch 94/100\n",
            "1/1 [==============================] - 0s 37ms/step - loss: 3839066.2500 - mae: 3839066.2500 - val_loss: 5195572.5000 - val_mae: 5195572.5000\n",
            "Epoch 95/100\n",
            "1/1 [==============================] - 0s 56ms/step - loss: 3824099.0000 - mae: 3824099.0000 - val_loss: 5154211.5000 - val_mae: 5154211.5000\n",
            "Epoch 96/100\n",
            "1/1 [==============================] - 0s 39ms/step - loss: 3816181.7500 - mae: 3816181.7500 - val_loss: 5123755.0000 - val_mae: 5123755.0000\n",
            "Epoch 97/100\n",
            "1/1 [==============================] - 0s 40ms/step - loss: 3807917.2500 - mae: 3807917.2500 - val_loss: 5104020.5000 - val_mae: 5104020.5000\n",
            "Epoch 98/100\n",
            "1/1 [==============================] - 0s 57ms/step - loss: 3800493.7500 - mae: 3800493.7500 - val_loss: 5107991.5000 - val_mae: 5107991.5000\n",
            "Epoch 99/100\n",
            "1/1 [==============================] - 0s 39ms/step - loss: 3790105.2500 - mae: 3790105.2500 - val_loss: 5133715.0000 - val_mae: 5133715.0000\n",
            "Epoch 100/100\n",
            "1/1 [==============================] - 0s 36ms/step - loss: 3779558.2500 - mae: 3779558.2500 - val_loss: 5175158.0000 - val_mae: 5175158.0000\n"
          ]
        },
        {
          "output_type": "execute_result",
          "data": {
            "text/plain": [
              "<keras.src.callbacks.History at 0x7af0d8152110>"
            ]
          },
          "metadata": {},
          "execution_count": 106
        }
      ]
    },
    {
      "cell_type": "code",
      "source": [
        "# Evaluate model on test data\n",
        "model_1.evaluate(test_windows, test_labels)"
      ],
      "metadata": {
        "colab": {
          "base_uri": "https://localhost:8080/"
        },
        "id": "ZT3Oz_u0bMCI",
        "outputId": "c4b6248f-55f0-4765-c008-e9925f58628d"
      },
      "execution_count": null,
      "outputs": [
        {
          "output_type": "stream",
          "name": "stdout",
          "text": [
            "1/1 [==============================] - 0s 29ms/step - loss: 5175158.0000 - mae: 5175158.0000\n"
          ]
        },
        {
          "output_type": "execute_result",
          "data": {
            "text/plain": [
              "[5175158.0, 5175158.0]"
            ]
          },
          "metadata": {},
          "execution_count": 107
        }
      ]
    },
    {
      "cell_type": "code",
      "source": [
        "def make_preds(model, input_data):\n",
        "    forecast = model.predict(input_data)\n",
        "    return tf.squeeze(forecast) # return 1D array of predictions"
      ],
      "metadata": {
        "id": "tZzdRQFFbL_g"
      },
      "execution_count": null,
      "outputs": []
    },
    {
      "cell_type": "code",
      "source": [
        "# Make predictions using model_1 on the test dataset and view the results\n",
        "model_1_preds = make_preds(model_1, test_windows)\n",
        "len(model_1_preds), model_1_preds[:10]"
      ],
      "metadata": {
        "colab": {
          "base_uri": "https://localhost:8080/"
        },
        "id": "RzTdmZQjbL8P",
        "outputId": "cb9f15a6-17d3-4924-8988-742c1cbaefad"
      },
      "execution_count": null,
      "outputs": [
        {
          "output_type": "stream",
          "name": "stdout",
          "text": [
            "1/1 [==============================] - 0s 95ms/step\n"
          ]
        },
        {
          "output_type": "execute_result",
          "data": {
            "text/plain": [
              "(11,\n",
              " <tf.Tensor: shape=(10,), dtype=float32, numpy=\n",
              " array([43417144., 36382480., 36008256., 48415980., 43976296., 40811216.,\n",
              "        50174056., 46621640., 46682648., 56628808.], dtype=float32)>)"
            ]
          },
          "metadata": {},
          "execution_count": 109
        }
      ]
    },
    {
      "cell_type": "code",
      "source": [
        "# Evaluate preds\n",
        "model_1_results = evaluate_preds(y_true=tf.squeeze(test_labels), # reduce to right shape\n",
        "                                 y_pred=model_1_preds)\n",
        "model_1_results"
      ],
      "metadata": {
        "colab": {
          "base_uri": "https://localhost:8080/"
        },
        "id": "vUkxf6gGbL4t",
        "outputId": "afca97f7-4790-414a-a93f-c528a095332f"
      },
      "execution_count": null,
      "outputs": [
        {
          "output_type": "execute_result",
          "data": {
            "text/plain": [
              "{'mae': 5175158.0,\n",
              " 'mse': 38224496000000.0,\n",
              " 'rmse': 6182596.0,\n",
              " 'mape': 10.71376,\n",
              " 'mase': 0.59125656}"
            ]
          },
          "metadata": {},
          "execution_count": 110
        }
      ]
    },
    {
      "cell_type": "code",
      "source": [
        "import csv\n",
        "from datetime import datetime\n",
        "import matplotlib.pyplot as plt\n",
        "import numpy as np\n",
        "import pandas as pd\n",
        "from statsmodels.tsa.seasonal import seasonal_decompose\n",
        "\n",
        "# Initialize lists to hold the data\n",
        "timesteps = []\n",
        "revenue = []\n",
        "error = []\n",
        "\n",
        "# Read the CSV file\n",
        "with open(\"/content/Month_Value_1.csv\", \"r\") as f:\n",
        "    csv_reader = csv.reader(f, delimiter=\",\")  # Read in the CSV file\n",
        "    next(csv_reader)  # Skip the first line (column titles)\n",
        "\n",
        "    # Iterate over each line in the CSV file\n",
        "    for line in csv_reader:\n",
        "        if line[1] != '':\n",
        "            # Convert the date string to a datetime object using the correct format\n",
        "            timesteps.append(datetime.strptime(line[0], \"%d.%m.%Y\"))\n",
        "\n",
        "            # Try to convert the revenue to a float and append to the list\n",
        "            try:\n",
        "                revenue.append(float(line[1]))\n",
        "            except:\n",
        "                error.append(line[1])\n",
        "\n",
        "# Check for any conversion errors\n",
        "if error:\n",
        "    print(\"Errors in data conversion:\", error)\n",
        "\n",
        "# Create a pandas DataFrame\n",
        "df = pd.DataFrame({'Period': timesteps, 'Revenue': revenue})\n",
        "df.set_index('Period', inplace=True)\n",
        "\n",
        "# Perform seasonal decomposition with period set to 12 (monthly data)\n",
        "result = seasonal_decompose(df['Revenue'], model='additive', period=12)\n",
        "\n",
        "# Plot the decomposition\n",
        "result.plot()\n",
        "plt.show()\n",
        "\n",
        "# Optionally, print the components\n",
        "trend = result.trend\n",
        "seasonal = result.seasonal\n",
        "residual = result.resid\n",
        "\n",
        "print(\"Trend component:\\n\", trend.dropna().head())\n",
        "print(\"\\nSeasonal component:\\n\", seasonal.dropna().head())\n",
        "print(\"\\nResidual component:\\n\", residual.dropna().head())\n",
        "\n"
      ],
      "metadata": {
        "colab": {
          "base_uri": "https://localhost:8080/",
          "height": 959
        },
        "id": "kva9f7AZUWsr",
        "outputId": "348356cb-5ee6-4d3f-8ba4-e8ff691902be"
      },
      "execution_count": null,
      "outputs": [
        {
          "output_type": "display_data",
          "data": {
            "text/plain": [
              "<Figure size 640x480 with 4 Axes>"
            ],
            "image/png": "[encoded data removed]"
          },
          "metadata": {}
        },
        {
          "output_type": "stream",
          "name": "stdout",
          "text": [
            "Trend component:\n",
            " Period\n",
            "2015-07-01    1.904412e+07\n",
            "2015-08-01    1.984208e+07\n",
            "2015-09-01    2.043587e+07\n",
            "2015-10-01    2.115370e+07\n",
            "2015-11-01    2.160284e+07\n",
            "Name: trend, dtype: float64\n",
            "\n",
            "Seasonal component:\n",
            " Period\n",
            "2015-01-01    4.715247e+06\n",
            "2015-02-01   -7.420284e+05\n",
            "2015-03-01    1.206097e+07\n",
            "2015-04-01   -2.212709e+06\n",
            "2015-05-01   -7.976948e+06\n",
            "Name: seasonal, dtype: float64\n",
            "\n",
            "Residual component:\n",
            " Period\n",
            "2015-07-01   -1.124827e+06\n",
            "2015-08-01    6.096203e+06\n",
            "2015-09-01   -1.704570e+06\n",
            "2015-10-01    5.340023e+04\n",
            "2015-11-01    9.150748e+05\n",
            "Name: resid, dtype: float64\n"
          ]
        }
      ]
    },
    {
      "cell_type": "code",
      "source": [
        "from google.colab import drive\n",
        "drive.mount('/content/drive')"
      ],
      "metadata": {
        "id": "lM-AiDD3VQjX"
      },
      "execution_count": null,
      "outputs": []
    }
  ]
}